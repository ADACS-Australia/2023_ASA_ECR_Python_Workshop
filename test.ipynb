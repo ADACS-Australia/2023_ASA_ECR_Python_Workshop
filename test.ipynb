{
 "cells": [
  {
   "cell_type": "code",
   "execution_count": 2,
   "metadata": {},
   "outputs": [],
   "source": [
    "# import our modules\n",
    "import sqlite3\n",
    "import pandas as pd"
   ]
  },
  {
   "cell_type": "code",
   "execution_count": 4,
   "metadata": {},
   "outputs": [],
   "source": [
    "# connect to the database\n",
    "con = sqlite3.connect('/home/paulhancock/Downloads/portal_mammals.sqlite')"
   ]
  },
  {
   "cell_type": "code",
   "execution_count": 7,
   "metadata": {},
   "outputs": [],
   "source": [
    "surveys_df = pd.read_sql(\"SELECT * FROM surveys\", con)"
   ]
  },
  {
   "cell_type": "code",
   "execution_count": 8,
   "metadata": {},
   "outputs": [
    {
     "data": {
      "text/html": [
       "<div>\n",
       "<style scoped>\n",
       "    .dataframe tbody tr th:only-of-type {\n",
       "        vertical-align: middle;\n",
       "    }\n",
       "\n",
       "    .dataframe tbody tr th {\n",
       "        vertical-align: top;\n",
       "    }\n",
       "\n",
       "    .dataframe thead th {\n",
       "        text-align: right;\n",
       "    }\n",
       "</style>\n",
       "<table border=\"1\" class=\"dataframe\">\n",
       "  <thead>\n",
       "    <tr style=\"text-align: right;\">\n",
       "      <th></th>\n",
       "      <th>record_id</th>\n",
       "      <th>month</th>\n",
       "      <th>day</th>\n",
       "      <th>year</th>\n",
       "      <th>plot_id</th>\n",
       "      <th>species_id</th>\n",
       "      <th>sex</th>\n",
       "      <th>hindfoot_length</th>\n",
       "      <th>weight</th>\n",
       "    </tr>\n",
       "  </thead>\n",
       "  <tbody>\n",
       "    <tr>\n",
       "      <th>0</th>\n",
       "      <td>1</td>\n",
       "      <td>7</td>\n",
       "      <td>16</td>\n",
       "      <td>1977</td>\n",
       "      <td>2</td>\n",
       "      <td>NL</td>\n",
       "      <td>M</td>\n",
       "      <td>32.0</td>\n",
       "      <td>NaN</td>\n",
       "    </tr>\n",
       "    <tr>\n",
       "      <th>1</th>\n",
       "      <td>2</td>\n",
       "      <td>7</td>\n",
       "      <td>16</td>\n",
       "      <td>1977</td>\n",
       "      <td>3</td>\n",
       "      <td>NL</td>\n",
       "      <td>M</td>\n",
       "      <td>33.0</td>\n",
       "      <td>NaN</td>\n",
       "    </tr>\n",
       "    <tr>\n",
       "      <th>2</th>\n",
       "      <td>3</td>\n",
       "      <td>7</td>\n",
       "      <td>16</td>\n",
       "      <td>1977</td>\n",
       "      <td>2</td>\n",
       "      <td>DM</td>\n",
       "      <td>F</td>\n",
       "      <td>37.0</td>\n",
       "      <td>NaN</td>\n",
       "    </tr>\n",
       "    <tr>\n",
       "      <th>3</th>\n",
       "      <td>4</td>\n",
       "      <td>7</td>\n",
       "      <td>16</td>\n",
       "      <td>1977</td>\n",
       "      <td>7</td>\n",
       "      <td>DM</td>\n",
       "      <td>M</td>\n",
       "      <td>36.0</td>\n",
       "      <td>NaN</td>\n",
       "    </tr>\n",
       "    <tr>\n",
       "      <th>4</th>\n",
       "      <td>5</td>\n",
       "      <td>7</td>\n",
       "      <td>16</td>\n",
       "      <td>1977</td>\n",
       "      <td>3</td>\n",
       "      <td>DM</td>\n",
       "      <td>M</td>\n",
       "      <td>35.0</td>\n",
       "      <td>NaN</td>\n",
       "    </tr>\n",
       "    <tr>\n",
       "      <th>...</th>\n",
       "      <td>...</td>\n",
       "      <td>...</td>\n",
       "      <td>...</td>\n",
       "      <td>...</td>\n",
       "      <td>...</td>\n",
       "      <td>...</td>\n",
       "      <td>...</td>\n",
       "      <td>...</td>\n",
       "      <td>...</td>\n",
       "    </tr>\n",
       "    <tr>\n",
       "      <th>35544</th>\n",
       "      <td>35545</td>\n",
       "      <td>12</td>\n",
       "      <td>31</td>\n",
       "      <td>2002</td>\n",
       "      <td>15</td>\n",
       "      <td>AH</td>\n",
       "      <td>None</td>\n",
       "      <td>NaN</td>\n",
       "      <td>NaN</td>\n",
       "    </tr>\n",
       "    <tr>\n",
       "      <th>35545</th>\n",
       "      <td>35546</td>\n",
       "      <td>12</td>\n",
       "      <td>31</td>\n",
       "      <td>2002</td>\n",
       "      <td>15</td>\n",
       "      <td>AH</td>\n",
       "      <td>None</td>\n",
       "      <td>NaN</td>\n",
       "      <td>NaN</td>\n",
       "    </tr>\n",
       "    <tr>\n",
       "      <th>35546</th>\n",
       "      <td>35547</td>\n",
       "      <td>12</td>\n",
       "      <td>31</td>\n",
       "      <td>2002</td>\n",
       "      <td>10</td>\n",
       "      <td>RM</td>\n",
       "      <td>F</td>\n",
       "      <td>15.0</td>\n",
       "      <td>14.0</td>\n",
       "    </tr>\n",
       "    <tr>\n",
       "      <th>35547</th>\n",
       "      <td>35548</td>\n",
       "      <td>12</td>\n",
       "      <td>31</td>\n",
       "      <td>2002</td>\n",
       "      <td>7</td>\n",
       "      <td>DO</td>\n",
       "      <td>M</td>\n",
       "      <td>36.0</td>\n",
       "      <td>51.0</td>\n",
       "    </tr>\n",
       "    <tr>\n",
       "      <th>35548</th>\n",
       "      <td>35549</td>\n",
       "      <td>12</td>\n",
       "      <td>31</td>\n",
       "      <td>2002</td>\n",
       "      <td>5</td>\n",
       "      <td>None</td>\n",
       "      <td>None</td>\n",
       "      <td>NaN</td>\n",
       "      <td>NaN</td>\n",
       "    </tr>\n",
       "  </tbody>\n",
       "</table>\n",
       "<p>35549 rows × 9 columns</p>\n",
       "</div>"
      ],
      "text/plain": [
       "       record_id  month  day  year  plot_id species_id   sex  hindfoot_length  \\\n",
       "0              1      7   16  1977        2         NL     M             32.0   \n",
       "1              2      7   16  1977        3         NL     M             33.0   \n",
       "2              3      7   16  1977        2         DM     F             37.0   \n",
       "3              4      7   16  1977        7         DM     M             36.0   \n",
       "4              5      7   16  1977        3         DM     M             35.0   \n",
       "...          ...    ...  ...   ...      ...        ...   ...              ...   \n",
       "35544      35545     12   31  2002       15         AH  None              NaN   \n",
       "35545      35546     12   31  2002       15         AH  None              NaN   \n",
       "35546      35547     12   31  2002       10         RM     F             15.0   \n",
       "35547      35548     12   31  2002        7         DO     M             36.0   \n",
       "35548      35549     12   31  2002        5       None  None              NaN   \n",
       "\n",
       "       weight  \n",
       "0         NaN  \n",
       "1         NaN  \n",
       "2         NaN  \n",
       "3         NaN  \n",
       "4         NaN  \n",
       "...       ...  \n",
       "35544     NaN  \n",
       "35545     NaN  \n",
       "35546    14.0  \n",
       "35547    51.0  \n",
       "35548     NaN  \n",
       "\n",
       "[35549 rows x 9 columns]"
      ]
     },
     "execution_count": 8,
     "metadata": {},
     "output_type": "execute_result"
    }
   ],
   "source": [
    "surveys_df"
   ]
  },
  {
   "cell_type": "code",
   "execution_count": 9,
   "metadata": {},
   "outputs": [
    {
     "data": {
      "text/plain": [
       "array(['M', 'F', None], dtype=object)"
      ]
     },
     "execution_count": 9,
     "metadata": {},
     "output_type": "execute_result"
    }
   ],
   "source": [
    "surveys_df['sex'].unique()"
   ]
  },
  {
   "cell_type": "code",
   "execution_count": 12,
   "metadata": {},
   "outputs": [
    {
     "data": {
      "text/plain": [
       "array(['NL', 'DM', 'PF', 'PE', 'DS', 'PP', 'SH', 'OT', 'DO', 'OX', 'SS',\n",
       "       'OL', 'RM', None, 'SA', 'PM', 'AH', 'DX', 'AB', 'CB', 'CM', 'CQ',\n",
       "       'RF', 'PC', 'PG', 'PH', 'PU', 'CV', 'UR', 'UP', 'ZL', 'UL', 'CS',\n",
       "       'SC', 'BA', 'SF', 'RO', 'AS', 'SO', 'PI', 'ST', 'CU', 'SU', 'RX',\n",
       "       'PB', 'PL', 'PX', 'CT', 'US'], dtype=object)"
      ]
     },
     "execution_count": 12,
     "metadata": {},
     "output_type": "execute_result"
    }
   ],
   "source": [
    "#pd.unique(surveys_df['species_id'])\n",
    "# OR\n",
    "surveys_df['species_id'].unique()"
   ]
  },
  {
   "cell_type": "code",
   "execution_count": 13,
   "metadata": {},
   "outputs": [
    {
     "data": {
      "text/plain": [
       "count    32283.000000\n",
       "mean        42.672428\n",
       "std         36.631259\n",
       "min          4.000000\n",
       "25%         20.000000\n",
       "50%         37.000000\n",
       "75%         48.000000\n",
       "max        280.000000\n",
       "Name: weight, dtype: float64"
      ]
     },
     "execution_count": 13,
     "metadata": {},
     "output_type": "execute_result"
    }
   ],
   "source": [
    "surveys_df['weight'].describe()"
   ]
  },
  {
   "cell_type": "code",
   "execution_count": 14,
   "metadata": {},
   "outputs": [
    {
     "data": {
      "text/html": [
       "<div>\n",
       "<style scoped>\n",
       "    .dataframe tbody tr th:only-of-type {\n",
       "        vertical-align: middle;\n",
       "    }\n",
       "\n",
       "    .dataframe tbody tr th {\n",
       "        vertical-align: top;\n",
       "    }\n",
       "\n",
       "    .dataframe thead th {\n",
       "        text-align: right;\n",
       "    }\n",
       "</style>\n",
       "<table border=\"1\" class=\"dataframe\">\n",
       "  <thead>\n",
       "    <tr style=\"text-align: right;\">\n",
       "      <th>sex</th>\n",
       "      <th>F</th>\n",
       "      <th>M</th>\n",
       "    </tr>\n",
       "    <tr>\n",
       "      <th>plot_id</th>\n",
       "      <th></th>\n",
       "      <th></th>\n",
       "    </tr>\n",
       "  </thead>\n",
       "  <tbody>\n",
       "    <tr>\n",
       "      <th>1</th>\n",
       "      <td>38253.0</td>\n",
       "      <td>59979.0</td>\n",
       "    </tr>\n",
       "    <tr>\n",
       "      <th>2</th>\n",
       "      <td>50144.0</td>\n",
       "      <td>57250.0</td>\n",
       "    </tr>\n",
       "    <tr>\n",
       "      <th>3</th>\n",
       "      <td>27251.0</td>\n",
       "      <td>28253.0</td>\n",
       "    </tr>\n",
       "    <tr>\n",
       "      <th>4</th>\n",
       "      <td>39796.0</td>\n",
       "      <td>49377.0</td>\n",
       "    </tr>\n",
       "    <tr>\n",
       "      <th>5</th>\n",
       "      <td>21143.0</td>\n",
       "      <td>23326.0</td>\n",
       "    </tr>\n",
       "    <tr>\n",
       "      <th>6</th>\n",
       "      <td>26210.0</td>\n",
       "      <td>27245.0</td>\n",
       "    </tr>\n",
       "    <tr>\n",
       "      <th>7</th>\n",
       "      <td>6522.0</td>\n",
       "      <td>6422.0</td>\n",
       "    </tr>\n",
       "    <tr>\n",
       "      <th>8</th>\n",
       "      <td>37274.0</td>\n",
       "      <td>47755.0</td>\n",
       "    </tr>\n",
       "    <tr>\n",
       "      <th>9</th>\n",
       "      <td>44128.0</td>\n",
       "      <td>48727.0</td>\n",
       "    </tr>\n",
       "    <tr>\n",
       "      <th>10</th>\n",
       "      <td>2359.0</td>\n",
       "      <td>2776.0</td>\n",
       "    </tr>\n",
       "    <tr>\n",
       "      <th>11</th>\n",
       "      <td>34638.0</td>\n",
       "      <td>43106.0</td>\n",
       "    </tr>\n",
       "    <tr>\n",
       "      <th>12</th>\n",
       "      <td>51825.0</td>\n",
       "      <td>57420.0</td>\n",
       "    </tr>\n",
       "    <tr>\n",
       "      <th>13</th>\n",
       "      <td>24720.0</td>\n",
       "      <td>30354.0</td>\n",
       "    </tr>\n",
       "    <tr>\n",
       "      <th>14</th>\n",
       "      <td>32770.0</td>\n",
       "      <td>46469.0</td>\n",
       "    </tr>\n",
       "    <tr>\n",
       "      <th>15</th>\n",
       "      <td>12455.0</td>\n",
       "      <td>11037.0</td>\n",
       "    </tr>\n",
       "    <tr>\n",
       "      <th>16</th>\n",
       "      <td>5446.0</td>\n",
       "      <td>6310.0</td>\n",
       "    </tr>\n",
       "    <tr>\n",
       "      <th>17</th>\n",
       "      <td>42106.0</td>\n",
       "      <td>48082.0</td>\n",
       "    </tr>\n",
       "    <tr>\n",
       "      <th>18</th>\n",
       "      <td>27353.0</td>\n",
       "      <td>26433.0</td>\n",
       "    </tr>\n",
       "    <tr>\n",
       "      <th>19</th>\n",
       "      <td>11297.0</td>\n",
       "      <td>11514.0</td>\n",
       "    </tr>\n",
       "    <tr>\n",
       "      <th>20</th>\n",
       "      <td>33206.0</td>\n",
       "      <td>25988.0</td>\n",
       "    </tr>\n",
       "    <tr>\n",
       "      <th>21</th>\n",
       "      <td>15481.0</td>\n",
       "      <td>9815.0</td>\n",
       "    </tr>\n",
       "    <tr>\n",
       "      <th>22</th>\n",
       "      <td>34656.0</td>\n",
       "      <td>35363.0</td>\n",
       "    </tr>\n",
       "    <tr>\n",
       "      <th>23</th>\n",
       "      <td>3352.0</td>\n",
       "      <td>3883.0</td>\n",
       "    </tr>\n",
       "    <tr>\n",
       "      <th>24</th>\n",
       "      <td>22951.0</td>\n",
       "      <td>18835.0</td>\n",
       "    </tr>\n",
       "  </tbody>\n",
       "</table>\n",
       "</div>"
      ],
      "text/plain": [
       "sex            F        M\n",
       "plot_id                  \n",
       "1        38253.0  59979.0\n",
       "2        50144.0  57250.0\n",
       "3        27251.0  28253.0\n",
       "4        39796.0  49377.0\n",
       "5        21143.0  23326.0\n",
       "6        26210.0  27245.0\n",
       "7         6522.0   6422.0\n",
       "8        37274.0  47755.0\n",
       "9        44128.0  48727.0\n",
       "10        2359.0   2776.0\n",
       "11       34638.0  43106.0\n",
       "12       51825.0  57420.0\n",
       "13       24720.0  30354.0\n",
       "14       32770.0  46469.0\n",
       "15       12455.0  11037.0\n",
       "16        5446.0   6310.0\n",
       "17       42106.0  48082.0\n",
       "18       27353.0  26433.0\n",
       "19       11297.0  11514.0\n",
       "20       33206.0  25988.0\n",
       "21       15481.0   9815.0\n",
       "22       34656.0  35363.0\n",
       "23        3352.0   3883.0\n",
       "24       22951.0  18835.0"
      ]
     },
     "execution_count": 14,
     "metadata": {},
     "output_type": "execute_result"
    }
   ],
   "source": [
    "by_site_sex = surveys_df.groupby(['plot_id', 'sex'])\n",
    "site_sex_count = by_site_sex['weight'].sum()\n",
    "site_sex_count.unstack()"
   ]
  },
  {
   "cell_type": "code",
   "execution_count": 18,
   "metadata": {},
   "outputs": [
    {
     "data": {
      "text/plain": [
       "plot_id  sex\n",
       "1        F      Axes(0.125,0.11;0.775x0.77)\n",
       "         M      Axes(0.125,0.11;0.775x0.77)\n",
       "2        F      Axes(0.125,0.11;0.775x0.77)\n",
       "         M      Axes(0.125,0.11;0.775x0.77)\n",
       "3        F      Axes(0.125,0.11;0.775x0.77)\n",
       "         M      Axes(0.125,0.11;0.775x0.77)\n",
       "4        F      Axes(0.125,0.11;0.775x0.77)\n",
       "         M      Axes(0.125,0.11;0.775x0.77)\n",
       "5        F      Axes(0.125,0.11;0.775x0.77)\n",
       "         M      Axes(0.125,0.11;0.775x0.77)\n",
       "6        F      Axes(0.125,0.11;0.775x0.77)\n",
       "         M      Axes(0.125,0.11;0.775x0.77)\n",
       "7        F      Axes(0.125,0.11;0.775x0.77)\n",
       "         M      Axes(0.125,0.11;0.775x0.77)\n",
       "8        F      Axes(0.125,0.11;0.775x0.77)\n",
       "         M      Axes(0.125,0.11;0.775x0.77)\n",
       "9        F      Axes(0.125,0.11;0.775x0.77)\n",
       "         M      Axes(0.125,0.11;0.775x0.77)\n",
       "10       F      Axes(0.125,0.11;0.775x0.77)\n",
       "         M      Axes(0.125,0.11;0.775x0.77)\n",
       "11       F      Axes(0.125,0.11;0.775x0.77)\n",
       "         M      Axes(0.125,0.11;0.775x0.77)\n",
       "12       F      Axes(0.125,0.11;0.775x0.77)\n",
       "         M      Axes(0.125,0.11;0.775x0.77)\n",
       "13       F      Axes(0.125,0.11;0.775x0.77)\n",
       "         M      Axes(0.125,0.11;0.775x0.77)\n",
       "14       F      Axes(0.125,0.11;0.775x0.77)\n",
       "         M      Axes(0.125,0.11;0.775x0.77)\n",
       "15       F      Axes(0.125,0.11;0.775x0.77)\n",
       "         M      Axes(0.125,0.11;0.775x0.77)\n",
       "16       F      Axes(0.125,0.11;0.775x0.77)\n",
       "         M      Axes(0.125,0.11;0.775x0.77)\n",
       "17       F      Axes(0.125,0.11;0.775x0.77)\n",
       "         M      Axes(0.125,0.11;0.775x0.77)\n",
       "18       F      Axes(0.125,0.11;0.775x0.77)\n",
       "         M      Axes(0.125,0.11;0.775x0.77)\n",
       "19       F      Axes(0.125,0.11;0.775x0.77)\n",
       "         M      Axes(0.125,0.11;0.775x0.77)\n",
       "20       F      Axes(0.125,0.11;0.775x0.77)\n",
       "         M      Axes(0.125,0.11;0.775x0.77)\n",
       "21       F      Axes(0.125,0.11;0.775x0.77)\n",
       "         M      Axes(0.125,0.11;0.775x0.77)\n",
       "22       F      Axes(0.125,0.11;0.775x0.77)\n",
       "         M      Axes(0.125,0.11;0.775x0.77)\n",
       "23       F      Axes(0.125,0.11;0.775x0.77)\n",
       "         M      Axes(0.125,0.11;0.775x0.77)\n",
       "24       F      Axes(0.125,0.11;0.775x0.77)\n",
       "         M      Axes(0.125,0.11;0.775x0.77)\n",
       "Name: weight, dtype: object"
      ]
     },
     "execution_count": 18,
     "metadata": {},
     "output_type": "execute_result"
    },
    {
     "data": {
      "image/png": "[encoded data removed]",
      "text/plain": [
       "<Figure size 640x480 with 1 Axes>"
      ]
     },
     "metadata": {},
     "output_type": "display_data"
    }
   ],
   "source": [
    "%matplotlib inline\n",
    "by_site_sex['weight'].plot(kind='bar')"
   ]
  },
  {
   "cell_type": "code",
   "execution_count": 19,
   "metadata": {},
   "outputs": [
    {
     "data": {
      "text/plain": [
       "Text(0.5, 0, 'Plot')"
      ]
     },
     "execution_count": 19,
     "metadata": {},
     "output_type": "execute_result"
    },
    {
     "data": {
      "image/png": "[encoded data removed]",
      "text/plain": [
       "<Figure size 640x480 with 1 Axes>"
      ]
     },
     "metadata": {},
     "output_type": "display_data"
    }
   ],
   "source": [
    "by_site_sex = surveys_df.groupby(['plot_id', 'sex'])\n",
    "site_sex_count = by_site_sex['weight'].sum()\n",
    "spc = site_sex_count.unstack()\n",
    "s_plot = spc.plot(kind='bar', stacked=True, title=\"Total weight by site and sex\")\n",
    "s_plot.set_ylabel(\"Weight\")\n",
    "s_plot.set_xlabel(\"Plot\")"
   ]
  },
  {
   "cell_type": "code",
   "execution_count": 20,
   "metadata": {},
   "outputs": [
    {
     "data": {
      "text/plain": [
       "<Axes: xlabel='sex'>"
      ]
     },
     "execution_count": 20,
     "metadata": {},
     "output_type": "execute_result"
    },
    {
     "data": {
      "image/png": "[encoded data removed]",
      "text/plain": [
       "<Figure size 640x480 with 1 Axes>"
      ]
     },
     "metadata": {},
     "output_type": "display_data"
    }
   ],
   "source": [
    "surveys_df.groupby('sex').count()[\"record_id\"].plot(kind='bar')"
   ]
  },
  {
   "cell_type": "code",
   "execution_count": 22,
   "metadata": {},
   "outputs": [
    {
     "data": {
      "text/plain": [
       "<Axes: xlabel='plot_id'>"
      ]
     },
     "execution_count": 22,
     "metadata": {},
     "output_type": "execute_result"
    },
    {
     "data": {
      "image/png": "[encoded data removed]",
      "text/plain": [
       "<Figure size 640x480 with 1 Axes>"
      ]
     },
     "metadata": {},
     "output_type": "display_data"
    }
   ],
   "source": [
    "surveys_df.groupby('plot_id')[\"weight\"].mean().plot(kind='bar')"
   ]
  },
  {
   "cell_type": "code",
   "execution_count": 24,
   "metadata": {},
   "outputs": [
    {
     "data": {
      "text/plain": [
       "<Axes: xlabel='species_id'>"
      ]
     },
     "execution_count": 24,
     "metadata": {},
     "output_type": "execute_result"
    },
    {
     "data": {
      "image/png": "[encoded data removed]",
      "text/plain": [
       "<Figure size 640x480 with 1 Axes>"
      ]
     },
     "metadata": {},
     "output_type": "display_data"
    }
   ],
   "source": [
    "species_counts = surveys_df.groupby('species_id')['record_id'].count()\n",
    "species_counts.plot(kind='bar')"
   ]
  },
  {
   "cell_type": "code",
   "execution_count": null,
   "metadata": {},
   "outputs": [],
   "source": []
  }
 ],
 "metadata": {
  "kernelspec": {
   "display_name": "Python 3",
   "language": "python",
   "name": "python3"
  },
  "language_info": {
   "codemirror_mode": {
    "name": "ipython",
    "version": 3
   },
   "file_extension": ".py",
   "mimetype": "text/x-python",
   "name": "python",
   "nbconvert_exporter": "python",
   "pygments_lexer": "ipython3",
   "version": "3.8.10"
  },
  "orig_nbformat": 4
 },
 "nbformat": 4,
 "nbformat_minor": 2
}
